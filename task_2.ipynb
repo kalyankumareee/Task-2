{
  "nbformat": 4,
  "nbformat_minor": 0,
  "metadata": {
    "colab": {
      "provenance": [],
      "authorship_tag": "ABX9TyMjzj/UZSmDQRrtbROo6GMA",
      "include_colab_link": true
    },
    "kernelspec": {
      "name": "python3",
      "display_name": "Python 3"
    },
    "language_info": {
      "name": "python"
    }
  },
  "cells": [
    {
      "cell_type": "markdown",
      "metadata": {
        "id": "view-in-github",
        "colab_type": "text"
      },
      "source": [
        "<a href=\"https://colab.research.google.com/github/kalyankumareee/Task-2/blob/main/task_2.ipynb\" target=\"_parent\"><img src=\"https://colab.research.google.com/assets/colab-badge.svg\" alt=\"Open In Colab\"/></a>"
      ]
    },
    {
      "cell_type": "code",
      "execution_count": null,
      "metadata": {
        "colab": {
          "base_uri": "https://localhost:8080/"
        },
        "id": "X24LJeoFAJIx",
        "outputId": "dbc51d99-f551-4e7f-f74d-fba7b1c34387"
      },
      "outputs": [
        {
          "name": "stdout",
          "output_type": "stream",
          "text": [
            "Enter type (expense or income): expense\n",
            "Enter category: budget\n",
            "Enter amount: 10000\n"
          ]
        }
      ],
      "source": [
        "def add_transaction(transactions):\n",
        "    type = input(\"Enter type (expense or income): \")\n",
        "    category = input(\"Enter category: \")\n",
        "    amount = float(input(\"Enter amount: \"))\n",
        "    transactions.append({\"type\": type, \"category\": category, \"amount\": amount})\n",
        "\n",
        "transactions = []\n",
        "add_transaction(transactions)"
      ]
    },
    {
      "cell_type": "code",
      "source": [
        "import json\n",
        "\n",
        "# Function to input expenses or income\n",
        "def input_transaction():\n",
        "    category = input(\"Enter category: \")\n",
        "    amount = float(input(\"Enter amount: \"))\n",
        "    return {'category': category, 'amount': amount}\n",
        "\n",
        "# Function to calculate remaining budget\n",
        "def calculate_budget(income, expenses):\n",
        "    total_income = sum(income)\n",
        "    total_expenses = sum(expenses)\n",
        "    remaining_budget = total_income - total_expenses\n",
        "    return remaining_budget\n",
        "\n",
        "# Function to analyze expenses\n",
        "def analyze_expenses(expenses):\n",
        "    categories = {}\n",
        "    for expense in expenses:\n",
        "        category = expense['category']\n",
        "        amount = expense['amount']\n",
        "        categories[category] = categories.get(category, 0) + amount\n",
        "    return categories\n",
        "\n",
        "# Function to save data to a file\n",
        "def save_data(data):\n",
        "    with open('budget_data.json', 'w') as file:\n",
        "        json.dump(data, file)\n",
        "\n",
        "# Function to load data from a file\n",
        "def load_data():\n",
        "    try:\n",
        "        with open('budget_data.json', 'r') as file:\n",
        "            data = json.load(file)\n",
        "    except FileNotFoundError:\n",
        "        data = {'income': [], 'expenses': []}\n",
        "    return data\n",
        "\n",
        "# Main function\n",
        "def main():\n",
        "    data = load_data()\n",
        "    income = data['income']\n",
        "    expenses = data['expenses']\n",
        "\n",
        "    while True:\n",
        "        print(\"\\n1. Enter Income\")\n",
        "        print(\"2. Enter Expense\")\n",
        "        print(\"3. View Remaining Budget\")\n",
        "        print(\"4. Analyze Expenses\")\n",
        "        print(\"5. Exit\")\n",
        "\n",
        "        choice = input(\"Enter your choice: \")\n",
        "\n",
        "        if choice == '1':\n",
        "            income.append(input_transaction())\n",
        "        elif choice == '2':\n",
        "            expenses.append(input_transaction())\n",
        "        elif choice == '3':\n",
        "            remaining_budget = calculate_budget([entry['amount'] for entry in income], [entry['amount'] for entry in expenses])\n",
        "            print(f\"Remaining Budget: {remaining_budget}\")\n",
        "        elif choice == '4':\n",
        "            expenses_analysis = analyze_expenses(expenses)\n",
        "            print(\"Expense Analysis:\")\n",
        "            for category, amount in expenses_analysis.items():\n",
        "                print(f\"{category}: {amount}\")\n",
        "        elif choice == '5':\n",
        "            save_data(data)\n",
        "            print(\"Exiting...\")\n",
        "            break\n",
        "        else:\n",
        "            print(\"Invalid choice\")\n",
        "\n",
        "if __name__ == \"__main__\":\n",
        "    main()"
      ],
      "metadata": {
        "colab": {
          "base_uri": "https://localhost:8080/"
        },
        "id": "We7WOi__A7Cl",
        "outputId": "481f8f2b-5d7d-4429-ec6c-f5d5fa0c53ae"
      },
      "execution_count": null,
      "outputs": [
        {
          "output_type": "stream",
          "name": "stdout",
          "text": [
            "\n",
            "1. Enter Income\n",
            "2. Enter Expense\n",
            "3. View Remaining Budget\n",
            "4. Analyze Expenses\n",
            "5. Exit\n",
            "Enter your choice: 1\n",
            "Enter category: budget\n",
            "Enter amount: 10000\n",
            "\n",
            "1. Enter Income\n",
            "2. Enter Expense\n",
            "3. View Remaining Budget\n",
            "4. Analyze Expenses\n",
            "5. Exit\n",
            "Enter your choice: 2\n",
            "Enter category: remaining expenses\n",
            "Enter amount: 20000\n",
            "\n",
            "1. Enter Income\n",
            "2. Enter Expense\n",
            "3. View Remaining Budget\n",
            "4. Analyze Expenses\n",
            "5. Exit\n",
            "Enter your choice: 3\n",
            "Remaining Budget: -10000.0\n",
            "\n",
            "1. Enter Income\n",
            "2. Enter Expense\n",
            "3. View Remaining Budget\n",
            "4. Analyze Expenses\n",
            "5. Exit\n",
            "Enter your choice: 4\n",
            "Expense Analysis:\n",
            "remaining expenses: 20000.0\n",
            "\n",
            "1. Enter Income\n",
            "2. Enter Expense\n",
            "3. View Remaining Budget\n",
            "4. Analyze Expenses\n",
            "5. Exit\n",
            "Enter your choice: 5\n",
            "Exiting...\n"
          ]
        }
      ]
    }
  ]
}